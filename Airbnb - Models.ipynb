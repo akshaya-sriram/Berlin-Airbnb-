{
 "cells": [
  {
   "cell_type": "markdown",
   "metadata": {},
   "source": [
    "## Importing libraries"
   ]
  },
  {
   "cell_type": "code",
   "execution_count": 1,
   "metadata": {},
   "outputs": [],
   "source": [
    "import numpy as np\n",
    "import pandas as pd\n",
    "import matplotlib.pyplot as plt\n",
    "import seaborn as sns\n",
    "import warnings\n",
    "warnings.filterwarnings(\"ignore\")\n",
    "from sklearn.model_selection import train_test_split\n",
    "from sklearn.metrics import r2_score, mean_squared_error"
   ]
  },
  {
   "cell_type": "code",
   "execution_count": 2,
   "metadata": {},
   "outputs": [],
   "source": [
    "## Base models\n",
    "import statsmodels.api as sm\n",
    "from sklearn.linear_model import Lasso,Ridge,LassoCV,RidgeCV\n",
    "from sklearn.tree import DecisionTreeRegressor\n",
    "from sklearn.model_selection import GridSearchCV\n",
    "from sklearn.neighbors import KNeighborsRegressor\n",
    "from sklearn.linear_model import LinearRegression"
   ]
  },
  {
   "cell_type": "code",
   "execution_count": 3,
   "metadata": {},
   "outputs": [],
   "source": [
    "## Ensemble models\n",
    "from sklearn.ensemble import RandomForestRegressor\n",
    "from sklearn.ensemble import BaggingRegressor\n",
    "from sklearn.ensemble import AdaBoostRegressor\n",
    "from sklearn.ensemble import GradientBoostingRegressor"
   ]
  },
  {
   "cell_type": "code",
   "execution_count": 4,
   "metadata": {},
   "outputs": [],
   "source": [
    "data=pd.read_csv(r\"C:\\Users\\Akshaya\\Desktop\\python-great lakes\\CAPSTONE\\final_data_used-EDA.csv\")"
   ]
  },
  {
   "cell_type": "code",
   "execution_count": 5,
   "metadata": {},
   "outputs": [
    {
     "data": {
      "text/html": [
       "<div>\n",
       "<style scoped>\n",
       "    .dataframe tbody tr th:only-of-type {\n",
       "        vertical-align: middle;\n",
       "    }\n",
       "\n",
       "    .dataframe tbody tr th {\n",
       "        vertical-align: top;\n",
       "    }\n",
       "\n",
       "    .dataframe thead th {\n",
       "        text-align: right;\n",
       "    }\n",
       "</style>\n",
       "<table border=\"1\" class=\"dataframe\">\n",
       "  <thead>\n",
       "    <tr style=\"text-align: right;\">\n",
       "      <th></th>\n",
       "      <th>Unnamed: 0</th>\n",
       "      <th>host_is_superhost</th>\n",
       "      <th>host_identity_verified</th>\n",
       "      <th>zipcode</th>\n",
       "      <th>latitude</th>\n",
       "      <th>longitude</th>\n",
       "      <th>is_location_exact</th>\n",
       "      <th>property_type</th>\n",
       "      <th>room_type</th>\n",
       "      <th>accommodates</th>\n",
       "      <th>...</th>\n",
       "      <th>review_scores_rating</th>\n",
       "      <th>review_scores_accuracy</th>\n",
       "      <th>review_scores_cleanliness</th>\n",
       "      <th>review_scores_checkin</th>\n",
       "      <th>review_scores_communication</th>\n",
       "      <th>review_scores_location</th>\n",
       "      <th>review_scores_value</th>\n",
       "      <th>instant_bookable</th>\n",
       "      <th>cancellation_policy</th>\n",
       "      <th>No_of_amenities</th>\n",
       "    </tr>\n",
       "  </thead>\n",
       "  <tbody>\n",
       "    <tr>\n",
       "      <th>0</th>\n",
       "      <td>0</td>\n",
       "      <td>1</td>\n",
       "      <td>1</td>\n",
       "      <td>10119</td>\n",
       "      <td>52.534537</td>\n",
       "      <td>13.402557</td>\n",
       "      <td>f</td>\n",
       "      <td>Guesthouse</td>\n",
       "      <td>Entire home/apt</td>\n",
       "      <td>3</td>\n",
       "      <td>...</td>\n",
       "      <td>93.0</td>\n",
       "      <td>10.0</td>\n",
       "      <td>9.0</td>\n",
       "      <td>10.0</td>\n",
       "      <td>10.0</td>\n",
       "      <td>10.0</td>\n",
       "      <td>9.0</td>\n",
       "      <td>0</td>\n",
       "      <td>strict_14_with_grace_period</td>\n",
       "      <td>28</td>\n",
       "    </tr>\n",
       "    <tr>\n",
       "      <th>1</th>\n",
       "      <td>1</td>\n",
       "      <td>0</td>\n",
       "      <td>1</td>\n",
       "      <td>10437</td>\n",
       "      <td>52.548513</td>\n",
       "      <td>13.404553</td>\n",
       "      <td>t</td>\n",
       "      <td>Apartment</td>\n",
       "      <td>Private room</td>\n",
       "      <td>2</td>\n",
       "      <td>...</td>\n",
       "      <td>100.0</td>\n",
       "      <td>10.0</td>\n",
       "      <td>10.0</td>\n",
       "      <td>10.0</td>\n",
       "      <td>10.0</td>\n",
       "      <td>10.0</td>\n",
       "      <td>10.0</td>\n",
       "      <td>0</td>\n",
       "      <td>flexible</td>\n",
       "      <td>10</td>\n",
       "    </tr>\n",
       "    <tr>\n",
       "      <th>2</th>\n",
       "      <td>2</td>\n",
       "      <td>0</td>\n",
       "      <td>1</td>\n",
       "      <td>10405</td>\n",
       "      <td>52.534996</td>\n",
       "      <td>13.417579</td>\n",
       "      <td>t</td>\n",
       "      <td>Apartment</td>\n",
       "      <td>Entire home/apt</td>\n",
       "      <td>4</td>\n",
       "      <td>...</td>\n",
       "      <td>92.0</td>\n",
       "      <td>9.0</td>\n",
       "      <td>9.0</td>\n",
       "      <td>9.0</td>\n",
       "      <td>9.0</td>\n",
       "      <td>10.0</td>\n",
       "      <td>9.0</td>\n",
       "      <td>1</td>\n",
       "      <td>strict_14_with_grace_period</td>\n",
       "      <td>19</td>\n",
       "    </tr>\n",
       "    <tr>\n",
       "      <th>3</th>\n",
       "      <td>3</td>\n",
       "      <td>0</td>\n",
       "      <td>1</td>\n",
       "      <td>10777</td>\n",
       "      <td>52.498855</td>\n",
       "      <td>13.349065</td>\n",
       "      <td>t</td>\n",
       "      <td>Apartment</td>\n",
       "      <td>Private room</td>\n",
       "      <td>2</td>\n",
       "      <td>...</td>\n",
       "      <td>88.0</td>\n",
       "      <td>9.0</td>\n",
       "      <td>9.0</td>\n",
       "      <td>9.0</td>\n",
       "      <td>10.0</td>\n",
       "      <td>9.0</td>\n",
       "      <td>9.0</td>\n",
       "      <td>0</td>\n",
       "      <td>strict_14_with_grace_period</td>\n",
       "      <td>28</td>\n",
       "    </tr>\n",
       "    <tr>\n",
       "      <th>4</th>\n",
       "      <td>4</td>\n",
       "      <td>1</td>\n",
       "      <td>1</td>\n",
       "      <td>10437</td>\n",
       "      <td>52.543157</td>\n",
       "      <td>13.415091</td>\n",
       "      <td>t</td>\n",
       "      <td>Apartment</td>\n",
       "      <td>Private room</td>\n",
       "      <td>2</td>\n",
       "      <td>...</td>\n",
       "      <td>96.0</td>\n",
       "      <td>10.0</td>\n",
       "      <td>10.0</td>\n",
       "      <td>10.0</td>\n",
       "      <td>10.0</td>\n",
       "      <td>10.0</td>\n",
       "      <td>9.0</td>\n",
       "      <td>0</td>\n",
       "      <td>moderate</td>\n",
       "      <td>13</td>\n",
       "    </tr>\n",
       "  </tbody>\n",
       "</table>\n",
       "<p>5 rows × 29 columns</p>\n",
       "</div>"
      ],
      "text/plain": [
       "   Unnamed: 0  host_is_superhost  host_identity_verified zipcode   latitude  \\\n",
       "0           0                  1                       1   10119  52.534537   \n",
       "1           1                  0                       1   10437  52.548513   \n",
       "2           2                  0                       1   10405  52.534996   \n",
       "3           3                  0                       1   10777  52.498855   \n",
       "4           4                  1                       1   10437  52.543157   \n",
       "\n",
       "   longitude is_location_exact property_type        room_type  accommodates  \\\n",
       "0  13.402557                 f    Guesthouse  Entire home/apt             3   \n",
       "1  13.404553                 t     Apartment     Private room             2   \n",
       "2  13.417579                 t     Apartment  Entire home/apt             4   \n",
       "3  13.349065                 t     Apartment     Private room             2   \n",
       "4  13.415091                 t     Apartment     Private room             2   \n",
       "\n",
       "   ...  review_scores_rating  review_scores_accuracy  \\\n",
       "0  ...                  93.0                    10.0   \n",
       "1  ...                 100.0                    10.0   \n",
       "2  ...                  92.0                     9.0   \n",
       "3  ...                  88.0                     9.0   \n",
       "4  ...                  96.0                    10.0   \n",
       "\n",
       "   review_scores_cleanliness review_scores_checkin  \\\n",
       "0                        9.0                  10.0   \n",
       "1                       10.0                  10.0   \n",
       "2                        9.0                   9.0   \n",
       "3                        9.0                   9.0   \n",
       "4                       10.0                  10.0   \n",
       "\n",
       "  review_scores_communication  review_scores_location  review_scores_value  \\\n",
       "0                        10.0                    10.0                  9.0   \n",
       "1                        10.0                    10.0                 10.0   \n",
       "2                         9.0                    10.0                  9.0   \n",
       "3                        10.0                     9.0                  9.0   \n",
       "4                        10.0                    10.0                  9.0   \n",
       "\n",
       "   instant_bookable          cancellation_policy  No_of_amenities  \n",
       "0                 0  strict_14_with_grace_period               28  \n",
       "1                 0                     flexible               10  \n",
       "2                 1  strict_14_with_grace_period               19  \n",
       "3                 0  strict_14_with_grace_period               28  \n",
       "4                 0                     moderate               13  \n",
       "\n",
       "[5 rows x 29 columns]"
      ]
     },
     "execution_count": 5,
     "metadata": {},
     "output_type": "execute_result"
    }
   ],
   "source": [
    "data.head()"
   ]
  },
  {
   "cell_type": "code",
   "execution_count": 6,
   "metadata": {},
   "outputs": [],
   "source": [
    "data1=pd.get_dummies(data,columns=['zipcode','property_type', 'room_type','bed_type','cancellation_policy'],drop_first=True)"
   ]
  },
  {
   "cell_type": "code",
   "execution_count": 7,
   "metadata": {},
   "outputs": [],
   "source": [
    "data1.drop('amenities',axis=1,inplace=True)"
   ]
  },
  {
   "cell_type": "code",
   "execution_count": 8,
   "metadata": {},
   "outputs": [],
   "source": [
    "data1['is_location_exact'] = data1['is_location_exact'].map({'f':0,'t':1})"
   ]
  },
  {
   "cell_type": "markdown",
   "metadata": {},
   "source": [
    "## Splitting the data"
   ]
  },
  {
   "cell_type": "code",
   "execution_count": 9,
   "metadata": {},
   "outputs": [],
   "source": [
    "y=data1['price']\n",
    "X=data1.drop('price',axis=1)"
   ]
  },
  {
   "cell_type": "code",
   "execution_count": 10,
   "metadata": {},
   "outputs": [],
   "source": [
    "X_train, X_test, y_train, y_test = train_test_split(X, y, test_size=0.30, random_state=42)"
   ]
  },
  {
   "cell_type": "markdown",
   "metadata": {},
   "source": [
    "## Base Models"
   ]
  },
  {
   "cell_type": "code",
   "execution_count": 11,
   "metadata": {},
   "outputs": [],
   "source": [
    "regressors = [\n",
    "    LinearRegression(fit_intercept=True),\n",
    "    DecisionTreeRegressor(max_depth= 4, max_features= 'auto', min_samples_leaf= 1,min_samples_split= 5),\n",
    "    RandomForestRegressor(n_estimators=100),\n",
    "    KNeighborsRegressor(n_neighbors= 11, weights= 'uniform')]"
   ]
  },
  {
   "cell_type": "code",
   "execution_count": 12,
   "metadata": {},
   "outputs": [
    {
     "name": "stdout",
     "output_type": "stream",
     "text": [
      "LinearRegression(copy_X=True, fit_intercept=True, n_jobs=None, normalize=False) \n",
      "\n",
      "train score 0.313385873715357\n",
      "test score 0.40484985765858406\n",
      "rmse_train: 171.83620325329724\n",
      "rmse_test: 172.04925364515606\n",
      "***************************************\n",
      "DecisionTreeRegressor(criterion='mse', max_depth=4, max_features='auto',\n",
      "                      max_leaf_nodes=None, min_impurity_decrease=0.0,\n",
      "                      min_impurity_split=None, min_samples_leaf=1,\n",
      "                      min_samples_split=5, min_weight_fraction_leaf=0.0,\n",
      "                      presort=False, random_state=None, splitter='best') \n",
      "\n",
      "train score 0.7405150963442103\n",
      "test score 0.7607471421078947\n",
      "rmse_train: 105.63658413720022\n",
      "rmse_test: 109.08576689473712\n",
      "***************************************\n",
      "RandomForestRegressor(bootstrap=True, criterion='mse', max_depth=None,\n",
      "                      max_features='auto', max_leaf_nodes=None,\n",
      "                      min_impurity_decrease=0.0, min_impurity_split=None,\n",
      "                      min_samples_leaf=1, min_samples_split=2,\n",
      "                      min_weight_fraction_leaf=0.0, n_estimators=100,\n",
      "                      n_jobs=None, oob_score=False, random_state=None,\n",
      "                      verbose=0, warm_start=False) \n",
      "\n",
      "train score 0.9548160007426841\n",
      "test score 0.6694588889906645\n",
      "rmse_train: 44.08091849361801\n",
      "rmse_test: 128.2189639510916\n",
      "***************************************\n",
      "KNeighborsRegressor(algorithm='auto', leaf_size=30, metric='minkowski',\n",
      "                    metric_params=None, n_jobs=None, n_neighbors=11, p=2,\n",
      "                    weights='uniform') \n",
      "\n",
      "train score 0.35736897965183523\n",
      "test score 0.28610707415162895\n",
      "rmse_train: 166.24138326879384\n",
      "rmse_test: 188.43260899063696\n",
      "***************************************\n"
     ]
    }
   ],
   "source": [
    "for i in regressors:\n",
    "    \n",
    "    model = i\n",
    "    model.fit(X_train, y_train)\n",
    "    print(i,\"\\n\")\n",
    "    print('train score', model.score(X_train,y_train))\n",
    "    print('test score', model.score(X_test,y_test))\n",
    "    y_pred_train= model.predict(X_train)\n",
    "    y_pred_test= model.predict(X_test)\n",
    "    rmse_train=np.sqrt(mean_squared_error(y_train,y_pred_train))\n",
    "    rmse_test=np.sqrt(mean_squared_error(y_test,y_pred_test))\n",
    "    print('rmse_train:',rmse_train)\n",
    "    print('rmse_test:',rmse_test)\n",
    "    print('***************************************')"
   ]
  },
  {
   "cell_type": "markdown",
   "metadata": {},
   "source": [
    "The models suffer from either bias or variance error. Hence we proceed to ensemble them."
   ]
  },
  {
   "cell_type": "markdown",
   "metadata": {},
   "source": [
    "## Ensembling the base models "
   ]
  },
  {
   "cell_type": "code",
   "execution_count": 14,
   "metadata": {},
   "outputs": [
    {
     "name": "stdout",
     "output_type": "stream",
     "text": [
      "LinearRegression(copy_X=True, fit_intercept=True, n_jobs=None, normalize=False) \n",
      "\n",
      "train score 0.3097989747642954\n",
      "test score 0.40021702095160183\n",
      "rmse_train: 172.28445810155458\n",
      "rmse_test: 172.71759838395644\n",
      "***************************************\n",
      "DecisionTreeRegressor(criterion='mse', max_depth=4, max_features='auto',\n",
      "                      max_leaf_nodes=None, min_impurity_decrease=0.0,\n",
      "                      min_impurity_split=None, min_samples_leaf=1,\n",
      "                      min_samples_split=5, min_weight_fraction_leaf=0.0,\n",
      "                      presort=False, random_state=None, splitter='best') \n",
      "\n",
      "train score 0.7579959748823537\n",
      "test score 0.7533386419906043\n",
      "rmse_train: 102.01630650961783\n",
      "rmse_test: 110.76181945684768\n",
      "***************************************\n",
      "RandomForestRegressor(bootstrap=True, criterion='mse', max_depth=None,\n",
      "                      max_features='auto', max_leaf_nodes=None,\n",
      "                      min_impurity_decrease=0.0, min_impurity_split=None,\n",
      "                      min_samples_leaf=1, min_samples_split=2,\n",
      "                      min_weight_fraction_leaf=0.0, n_estimators=100,\n",
      "                      n_jobs=None, oob_score=False, random_state=None,\n",
      "                      verbose=0, warm_start=False) \n",
      "\n",
      "train score 0.8394090931858897\n",
      "test score 0.7591787173569358\n",
      "rmse_train: 83.10339694234216\n",
      "rmse_test: 109.44273929080919\n",
      "***************************************\n",
      "KNeighborsRegressor(algorithm='auto', leaf_size=30, metric='minkowski',\n",
      "                    metric_params=None, n_jobs=None, n_neighbors=11, p=2,\n",
      "                    weights='uniform') \n",
      "\n",
      "train score 0.3645538786042025\n",
      "test score 0.3007920707666033\n",
      "rmse_train: 165.30944499139616\n",
      "rmse_test: 186.48448022850164\n",
      "***************************************\n"
     ]
    }
   ],
   "source": [
    "## Bagging\n",
    "for i in regressors:\n",
    "    \n",
    "    model = BaggingRegressor(base_estimator=i)\n",
    "    model.fit(X_train, y_train)\n",
    "    print(i,\"\\n\")\n",
    "    print('train score', model.score(X_train,y_train))\n",
    "    print('test score', model.score(X_test,y_test))\n",
    "    y_pred_train= model.predict(X_train)\n",
    "    y_pred_test= model.predict(X_test)\n",
    "    rmse_train=np.sqrt(mean_squared_error(y_train,y_pred_train))\n",
    "    rmse_test=np.sqrt(mean_squared_error(y_test,y_pred_test))\n",
    "    print('rmse_train:',rmse_train)\n",
    "    print('rmse_test:',rmse_test)\n",
    "    print('***************************************')"
   ]
  },
  {
   "cell_type": "markdown",
   "metadata": {},
   "source": [
    "Bagging helps to minimise the variance error of the models, the variance in random forest model has been reduced, but to keep in mind random forest is already bagged, hence an external bagging may not be always advisable."
   ]
  },
  {
   "cell_type": "code",
   "execution_count": 16,
   "metadata": {},
   "outputs": [
    {
     "name": "stdout",
     "output_type": "stream",
     "text": [
      "LinearRegression(copy_X=True, fit_intercept=True, n_jobs=None, normalize=False) \n",
      "\n",
      "train score -17.3230524024292\n",
      "test score -16.08517210766211\n",
      "rmse_train: 887.6815900981265\n",
      "rmse_test: 921.8265261909281\n",
      "DecisionTreeRegressor(criterion='mse', max_depth=4, max_features='auto',\n",
      "                      max_leaf_nodes=None, min_impurity_decrease=0.0,\n",
      "                      min_impurity_split=None, min_samples_leaf=1,\n",
      "                      min_samples_split=5, min_weight_fraction_leaf=0.0,\n",
      "                      presort=False, random_state=None, splitter='best') \n",
      "\n",
      "train score -2.690281834751203\n",
      "test score -2.4006156092756816\n",
      "rmse_train: 398.3713238890769\n",
      "rmse_test: 411.2617261939069\n",
      "RandomForestRegressor(bootstrap=True, criterion='mse', max_depth=None,\n",
      "                      max_features='auto', max_leaf_nodes=None,\n",
      "                      min_impurity_decrease=0.0, min_impurity_split=None,\n",
      "                      min_samples_leaf=1, min_samples_split=2,\n",
      "                      min_weight_fraction_leaf=0.0, n_estimators=100,\n",
      "                      n_jobs=None, oob_score=False, random_state=None,\n",
      "                      verbose=0, warm_start=False) \n",
      "\n",
      "train score 0.9987642629854823\n",
      "test score 0.6488964635025039\n",
      "rmse_train: 7.289895938507412\n",
      "rmse_test: 132.14694395475752\n",
      "KNeighborsRegressor(algorithm='auto', leaf_size=30, metric='minkowski',\n",
      "                    metric_params=None, n_jobs=None, n_neighbors=11, p=2,\n",
      "                    weights='uniform') \n",
      "\n",
      "train score 0.9784215036579931\n",
      "test score 0.36048990369017875\n",
      "rmse_train: 30.462734850743686\n",
      "rmse_test: 178.34593899582572\n"
     ]
    }
   ],
   "source": [
    "## Ada-boost regressor\n",
    "for i in regressors:\n",
    "    \n",
    "    model = AdaBoostRegressor(base_estimator=i, random_state=0) \n",
    "    model.fit(X_train, y_train)\n",
    "    print(i,\"\\n\")\n",
    "    print('train score', model.score(X_train,y_train))\n",
    "    print('test score', model.score(X_test,y_test))\n",
    "    y_pred_train= model.predict(X_train)\n",
    "    y_pred_test= model.predict(X_test)\n",
    "    rmse_train=np.sqrt(mean_squared_error(y_train,y_pred_train))\n",
    "    rmse_test=np.sqrt(mean_squared_error(y_test,y_pred_test))\n",
    "    print('rmse_train:',rmse_train)\n",
    "    print('rmse_test:',rmse_test)"
   ]
  },
  {
   "cell_type": "markdown",
   "metadata": {},
   "source": [
    "Boosting helps reduce bias error, the models random forest and kNN have performed well on train sets compared to the non-boost models, but variance is also increasing."
   ]
  },
  {
   "cell_type": "code",
   "execution_count": 17,
   "metadata": {},
   "outputs": [
    {
     "name": "stdout",
     "output_type": "stream",
     "text": [
      "train score 0.9397619261396146\n",
      "test score 0.7323971609814497\n",
      "rmse_train: 50.89719393995624\n",
      "rmse_test: 115.3678715682833\n"
     ]
    }
   ],
   "source": [
    "# Gradient boost regressor\n",
    "\n",
    "model= GradientBoostingRegressor(max_depth=7, max_features= 'sqrt', min_samples_leaf=1, min_samples_split= 2)\n",
    "model.fit(X_train, y_train)\n",
    "\n",
    "print('train score', model.score(X_train,y_train))\n",
    "print('test score', model.score(X_test,y_test))\n",
    "y_pred_train= model.predict(X_train)\n",
    "y_pred_test= model.predict(X_test)\n",
    "rmse_train=np.sqrt(mean_squared_error(y_train,y_pred_train))\n",
    "rmse_test=np.sqrt(mean_squared_error(y_test,y_pred_test))\n",
    "print('rmse_train:',rmse_train)\n",
    "print('rmse_test:',rmse_test)"
   ]
  },
  {
   "cell_type": "markdown",
   "metadata": {},
   "source": [
    "Gradient boost has helped to improve the performance of decision trees, but the model still suffers from variance error.\n",
    "\n",
    "\n",
    "Conclusion:\n",
    "Decision Tree model has been consistent among all the models, but it's performance is not enough. The Random Forest and Gradient Boost have better performances but suffer from lack consistency i.e., suffer with variance. By tuning the hyperparameters we may achieve better results. Other boosting methods may also be applied to see if there is an improvement in the performance."
   ]
  },
  {
   "cell_type": "code",
   "execution_count": null,
   "metadata": {},
   "outputs": [],
   "source": []
  }
 ],
 "metadata": {
  "kernelspec": {
   "display_name": "Python 3",
   "language": "python",
   "name": "python3"
  },
  "language_info": {
   "codemirror_mode": {
    "name": "ipython",
    "version": 3
   },
   "file_extension": ".py",
   "mimetype": "text/x-python",
   "name": "python",
   "nbconvert_exporter": "python",
   "pygments_lexer": "ipython3",
   "version": "3.7.3"
  }
 },
 "nbformat": 4,
 "nbformat_minor": 2
}
